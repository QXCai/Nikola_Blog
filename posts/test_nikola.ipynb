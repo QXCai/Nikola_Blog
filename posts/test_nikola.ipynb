{
 "cells": [
  {
   "cell_type": "markdown",
   "metadata": {},
   "source": [
    "### First Nikola Test\n",
    "#C:\\Anaconda3\\envs\\Cai_ENV_Nikola    \n",
    "conda info --envs #查看已建好的环境    \n",
    "conda create --name Cai_ENV_Nikola python=3.5 #创建Python虚拟环境    \n",
    "activate Cai_ENV_Nikola #激活虚拟环境    \n",
    "pip install package #<Cai_ENV_Nikola> 在当前环境安装软件包    \n",
    "    conda install -n your_env_name [package]#对虚拟环境中安装软件包    \n",
    "deactivate #停用虚拟环境    \n",
    "conda remove -n your_env_name(虚拟环境名称) --all #删除虚拟环境    \n",
    "\n",
    "\n",
    "#conda create --prefix=D:\\python36\\py36 python=3.6     \n",
    "    #将虚拟环境安装到指定路径    \n",
    "#activate D:\\python36\\py36       \n",
    "    #激活指定路径下的虚拟环境    \n",
    "    \n",
    "site name CaiQX Blog     \n",
    "afratyqk@126.com"
   ]
  },
  {
   "cell_type": "markdown",
   "metadata": {},
   "source": [
    "### Test\n",
    "\n",
    "$$\n",
    "x=\\frac{-b\\pm\\sqrt{b^2-4ac}}{2a}\n",
    "$$\n"
   ]
  },
  {
   "cell_type": "code",
   "execution_count": null,
   "metadata": {},
   "outputs": [],
   "source": []
  }
 ],
 "metadata": {
  "kernelspec": {
   "display_name": "Python 3",
   "language": "python",
   "name": "python3"
  },
  "language_info": {
   "codemirror_mode": {
    "name": "ipython",
    "version": 3
   },
   "file_extension": ".py",
   "mimetype": "text/x-python",
   "name": "python",
   "nbconvert_exporter": "python",
   "pygments_lexer": "ipython3",
   "version": "3.5.4"
  },
  "nikola": {
   "category": "",
   "date": "2017-12-27 15:14:02 UTC+08:00",
   "description": "",
   "link": "",
   "slug": "test_nikola",
   "tags": "",
   "title": "Test_Nikola",
   "type": "text"
  }
 },
 "nbformat": 4,
 "nbformat_minor": 2
}
